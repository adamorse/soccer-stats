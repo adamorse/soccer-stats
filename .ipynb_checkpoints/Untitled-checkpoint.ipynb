{
 "cells": [
  {
   "cell_type": "code",
   "execution_count": 1,
   "id": "6f7b3c8d",
   "metadata": {},
   "outputs": [],
   "source": [
    "import pandas as pd\n",
    "import numpy as np\n",
    "import glob\n",
    "import matplotlib.pyplot as plt\n",
    "from matplotlib import animation\n",
    "from scipy.stats import entropy\n",
    "from scipy.optimize import curve_fit\n",
    "import seaborn as sns"
   ]
  },
  {
   "cell_type": "markdown",
   "id": "b579b743",
   "metadata": {},
   "source": [
    "We'll use JSD to measure the distance between league distributions. Roughly, JSD measures how well you can make predictions about one distribution given another (symmetrically)."
   ]
  },
  {
   "cell_type": "code",
   "execution_count": 6,
   "id": "409752dc",
   "metadata": {},
   "outputs": [],
   "source": [
    "def JSD(p, q):\n",
    "    r = 0.5 * (p + q)\n",
    "    return 0.5 * (entropy(p, r) + entropy(q, r))"
   ]
  },
  {
   "cell_type": "markdown",
   "id": "5c428a50",
   "metadata": {},
   "source": [
    "Initializations! We need a list of the filenames. Each final contains data for one league in one country. We're going to calculate running JSDs over the course of each season, and also store the final leagues."
   ]
  },
  {
   "cell_type": "code",
   "execution_count": 78,
   "id": "9c97dd81",
   "metadata": {},
   "outputs": [],
   "source": [
    "filenames = glob.glob('data/*.csv')\n",
    "jsds = np.zeros((len(filenames),500))\n",
    "finals = np.zeros((len(filenames)+1,25))\n",
    "season_metadata = pd.DataFrame(columns=['league','year','season_id','num_teams'])\n",
    "season = 0\n",
    "cols = ['Div','Date','HomeTeam','AwayTeam','FTHG','FTAG']"
   ]
  },
  {
   "cell_type": "code",
   "execution_count": 79,
   "id": "ad8b72aa",
   "metadata": {},
   "outputs": [],
   "source": [
    "for file in filenames:\n",
    "    # load the season data\n",
    "    df = pd.read_csv(file,index_col='Date',encoding = \"ISO-8859-1\",usecols=cols)\n",
    "    \n",
    "    # some CSVs had all null rows at the bottom, check that those are the only nulls and drop them\n",
    "    assert len(df.dropna(axis=0,how='all')) == len(df.dropna(axis=0,how='any')), \"partially null rows detected\"\n",
    "    df = df.dropna(axis=0,how='any')\n",
    "    \n",
    "    # get the unique team names for that season\n",
    "    teams = list(df.HomeTeam.unique())\n",
    "    \n",
    "    # build season metadata\n",
    "    assert df['Div'].nunique() == 1, \"too many divisions in this file\"\n",
    "    df_meta = pd.DataFrame()\n",
    "    df_meta['league'] = df['Div'].drop_duplicates()\n",
    "    df_meta['year'] = file[len(file)-8:len(file)-4]\n",
    "    df_meta['season_id'] = season\n",
    "    df_meta['num_teams'] = len(teams)\n",
    "    season_metadata = pd.concat([season_metadata,df_meta],axis=0)\n",
    "    \n",
    "    # set up array for league tables\n",
    "    # each column corresponds to a team\n",
    "    # each row corresponds to the league table after that number of games\n",
    "    tables = np.zeros((df.shape[0]+1,len(teams)))\n",
    "    \n",
    "    # initialize game counter\n",
    "    num_games = 1\n",
    "    \n",
    "    # loop through the season data game by game\n",
    "    for idx,row in df.iterrows():\n",
    "        # initialize the current league table to be the same as the last\n",
    "        tables[num_games,:] = tables[num_games-1,:]\n",
    "        \n",
    "        # get indices for the teams involved in thisgame\n",
    "        home_idx = teams.index(row['HomeTeam'])\n",
    "        away_idx = teams.index(row['AwayTeam'])\n",
    "        \n",
    "        # compute home goals - away goals\n",
    "        goal_diff = row.FTHG - row.FTAG\n",
    "        \n",
    "        # update the league table based on the result\n",
    "        if goal_diff > 0:\n",
    "            tables[num_games,home_idx] += 3\n",
    "        elif goal_diff < 0:\n",
    "            tables[num_games,away_idx] += 3\n",
    "        else:\n",
    "            tables[num_games,home_idx] += 1\n",
    "            tables[num_games,away_idx] += 1\n",
    "        \n",
    "        # increment the game counter\n",
    "        num_games += 1\n",
    "    \n",
    "    # delete first row of the table\n",
    "    tables = tables[1:,:]\n",
    "    \n",
    "    # compute the probability distribution for the final league table\n",
    "    p = tables[-1,:]/np.sum(tables[-1,:])\n",
    "    \n",
    "    # store p\n",
    "    for idx,team in enumerate(p):\n",
    "        finals[season,idx] = team\n",
    "    \n",
    "    # for each of the running league tables, convert to a distribution\n",
    "    # and then compute the JSD\n",
    "    for i in range(len(tables[:,0])):\n",
    "        #if np.count_nonzero(tables[idx,:]) == len(tables[idx,:]):\n",
    "        q = tables[i,:]/np.sum(tables[i,:])\n",
    "        jsds[season,i] = JSD(p,q)\n",
    "    \n",
    "    # increment the season counter\n",
    "    season += 1"
   ]
  },
  {
   "cell_type": "markdown",
   "id": "d351cd7c",
   "metadata": {},
   "source": [
    "Let's plot some of these distributions. You can see that there are some qualitative differences. In spain, there are two leading teams and then a mildly linear dropoff (qualitative!). In Germany, there's one leader team followed by three, followed by the rest, and so on."
   ]
  },
  {
   "cell_type": "code",
   "execution_count": 107,
   "id": "c54bb413",
   "metadata": {},
   "outputs": [
    {
     "data": {
      "text/plain": [
       "Text(0, 0.5, 'Point distribution')"
      ]
     },
     "execution_count": 107,
     "metadata": {},
     "output_type": "execute_result"
    },
    {
     "data": {
      "image/png": "[encoded data removed]",
      "text/plain": [
       "<Figure size 432x288 with 1 Axes>"
      ]
     },
     "metadata": {},
     "output_type": "display_data"
    }
   ],
   "source": [
    "div = 'SP1'\n",
    "year = '1617'\n",
    "season_id =season_metadata[(season_metadata['league']==div) & (season_metadata['year']==year)]['season_id'].values[0]\n",
    "season_teams = season_metadata[(season_metadata['league']==div) & (season_metadata['year']==year)]['num_teams'].values[0]\n",
    "xd = [i for i in range(season_teams)]\n",
    "spain = np.sort(finals[season_id,:][finals[season_id,:] != 0])\n",
    "plt.bar(xd,spain)\n",
    "plt.title('La Liga 2016-2017')\n",
    "plt.xticks([],'')\n",
    "plt.xlabel('Ranked teams')\n",
    "plt.ylabel('Point distribution')"
   ]
  },
  {
   "cell_type": "code",
   "execution_count": 108,
   "id": "744cf92e",
   "metadata": {},
   "outputs": [
    {
     "data": {
      "text/plain": [
       "Text(0, 0.5, 'Point distribution')"
      ]
     },
     "execution_count": 108,
     "metadata": {},
     "output_type": "execute_result"
    },
    {
     "data": {
      "image/png": "[encoded data removed]",
      "text/plain": [
       "<Figure size 432x288 with 1 Axes>"
      ]
     },
     "metadata": {},
     "output_type": "display_data"
    }
   ],
   "source": [
    "div = 'D1'\n",
    "year = '1617'\n",
    "season_id =season_metadata[(season_metadata['league']==div) & (season_metadata['year']==year)]['season_id'].values[0]\n",
    "season_teams = season_metadata[(season_metadata['league']==div) & (season_metadata['year']==year)]['num_teams'].values[0]\n",
    "xd = [i for i in range(season_teams)]\n",
    "germany = np.sort(finals[season_id,:][finals[season_id,:] != 0])\n",
    "plt.bar(xd,germany)\n",
    "plt.title('Bundesliga 2016-2017')\n",
    "plt.xticks([],'')\n",
    "plt.xlabel('Ranked teams')\n",
    "plt.ylabel('Point distribution')"
   ]
  },
  {
   "cell_type": "code",
   "execution_count": 109,
   "id": "cedd0320",
   "metadata": {},
   "outputs": [
    {
     "data": {
      "text/plain": [
       "Text(0, 0.5, 'Point distribution')"
      ]
     },
     "execution_count": 109,
     "metadata": {},
     "output_type": "execute_result"
    },
    {
     "data": {
      "image/png": "[encoded data removed]",
      "text/plain": [
       "<Figure size 432x288 with 1 Axes>"
      ]
     },
     "metadata": {},
     "output_type": "display_data"
    }
   ],
   "source": [
    "div = 'E0'\n",
    "year = '1617'\n",
    "season_id =season_metadata[(season_metadata['league']==div) & (season_metadata['year']==year)]['season_id'].values[0]\n",
    "season_teams = season_metadata[(season_metadata['league']==div) & (season_metadata['year']==year)]['num_teams'].values[0]\n",
    "xd = [i for i in range(season_teams)]\n",
    "england = np.sort(finals[season_id,:][finals[season_id,:] != 0])\n",
    "plt.bar(xd,england)\n",
    "plt.title('Premier League 2016-2017')\n",
    "plt.xticks([],'')\n",
    "plt.xlabel('Ranked teams')\n",
    "plt.ylabel('Point distribution')"
   ]
  },
  {
   "cell_type": "code",
   "execution_count": 110,
   "id": "e56b8ad9",
   "metadata": {},
   "outputs": [
    {
     "data": {
      "text/plain": [
       "Text(0, 0.5, 'Point distribution')"
      ]
     },
     "execution_count": 110,
     "metadata": {},
     "output_type": "execute_result"
    },
    {
     "data": {
      "image/png": "[encoded data removed]",
      "text/plain": [
       "<Figure size 432x288 with 1 Axes>"
      ]
     },
     "metadata": {},
     "output_type": "display_data"
    }
   ],
   "source": [
    "div = 'I1'\n",
    "year = '1617'\n",
    "season_id =season_metadata[(season_metadata['league']==div) & (season_metadata['year']==year)]['season_id'].values[0]\n",
    "season_teams = season_metadata[(season_metadata['league']==div) & (season_metadata['year']==year)]['num_teams'].values[0]\n",
    "xd = [i for i in range(season_teams)]\n",
    "italy = np.sort(finals[season_id,:][finals[season_id,:] != 0])\n",
    "plt.bar(xd,italy)\n",
    "plt.title('Serie A League 2016-2017')\n",
    "plt.xticks([],'')\n",
    "plt.xlabel('Ranked teams')\n",
    "plt.ylabel('Point distribution')"
   ]
  },
  {
   "cell_type": "code",
   "execution_count": 111,
   "id": "b42f25e3",
   "metadata": {},
   "outputs": [
    {
     "data": {
      "text/plain": [
       "Text(0, 0.5, 'Point distribution')"
      ]
     },
     "execution_count": 111,
     "metadata": {},
     "output_type": "execute_result"
    },
    {
     "data": {
      "image/png": "[encoded data removed]",
      "text/plain": [
       "<Figure size 432x288 with 1 Axes>"
      ]
     },
     "metadata": {},
     "output_type": "display_data"
    }
   ],
   "source": [
    "div = 'F1'\n",
    "year = '1617'\n",
    "season_id =season_metadata[(season_metadata['league']==div) & (season_metadata['year']==year)]['season_id'].values[0]\n",
    "season_teams = season_metadata[(season_metadata['league']==div) & (season_metadata['year']==year)]['num_teams'].values[0]\n",
    "xd = [i for i in range(season_teams)]\n",
    "france = np.sort(finals[season_id,:][finals[season_id,:] != 0])\n",
    "plt.bar(xd,france)\n",
    "plt.title('Ligue 1 2016-2017')\n",
    "plt.xticks([],'')\n",
    "plt.xlabel('Ranked teams')\n",
    "plt.ylabel('Point distribution')"
   ]
  },
  {
   "cell_type": "markdown",
   "id": "40ec456b",
   "metadata": {},
   "source": [
    "Let's look at these in terms of JSD"
   ]
  },
  {
   "cell_type": "code",
   "execution_count": 112,
   "id": "9307a98c",
   "metadata": {},
   "outputs": [
    {
     "data": {
      "text/plain": [
       "0.0012809570771460652"
      ]
     },
     "execution_count": 112,
     "metadata": {},
     "output_type": "execute_result"
    }
   ],
   "source": [
    "JSD(england,spain)"
   ]
  },
  {
   "cell_type": "code",
   "execution_count": 113,
   "id": "a49bd015",
   "metadata": {},
   "outputs": [
    {
     "data": {
      "text/plain": [
       "0.0012423893403417786"
      ]
     },
     "execution_count": 113,
     "metadata": {},
     "output_type": "execute_result"
    }
   ],
   "source": [
    "JSD(england,italy)"
   ]
  },
  {
   "cell_type": "markdown",
   "id": "a6b9e1f2",
   "metadata": {},
   "source": [
    "Both of these are ~.001. But let's compare within that England season"
   ]
  },
  {
   "cell_type": "code",
   "execution_count": 115,
   "id": "84ea5925",
   "metadata": {},
   "outputs": [],
   "source": [
    "div = 'E0'\n",
    "year = '1617'\n",
    "season_id =season_metadata[(season_metadata['league']==div) & (season_metadata['year']==year)]['season_id'].values[0]"
   ]
  },
  {
   "cell_type": "code",
   "execution_count": 130,
   "id": "66279d98",
   "metadata": {},
   "outputs": [
    {
     "data": {
      "text/plain": [
       "[<matplotlib.lines.Line2D at 0x7f9da9ecb2e0>]"
      ]
     },
     "execution_count": 130,
     "metadata": {},
     "output_type": "execute_result"
    },
    {
     "data": {
      "image/png": "[encoded data removed]",
      "text/plain": [
       "<Figure size 432x288 with 1 Axes>"
      ]
     },
     "metadata": {},
     "output_type": "display_data"
    }
   ],
   "source": [
    "plt.plot(jsds[season_id,:380],alpha=.3,color='gray')"
   ]
  },
  {
   "cell_type": "code",
   "execution_count": 129,
   "id": "bddd7147",
   "metadata": {},
   "outputs": [
    {
     "data": {
      "text/plain": [
       "0.0"
      ]
     },
     "execution_count": 129,
     "metadata": {},
     "output_type": "execute_result"
    }
   ],
   "source": [
    "jsds[season_id,379]"
   ]
  },
  {
   "cell_type": "code",
   "execution_count": null,
   "id": "3bded696",
   "metadata": {},
   "outputs": [],
   "source": []
  }
 ],
 "metadata": {
  "kernelspec": {
   "display_name": "Python 3 (ipykernel)",
   "language": "python",
   "name": "python3"
  },
  "language_info": {
   "codemirror_mode": {
    "name": "ipython",
    "version": 3
   },
   "file_extension": ".py",
   "mimetype": "text/x-python",
   "name": "python",
   "nbconvert_exporter": "python",
   "pygments_lexer": "ipython3",
   "version": "3.9.12"
  }
 },
 "nbformat": 4,
 "nbformat_minor": 5
}
